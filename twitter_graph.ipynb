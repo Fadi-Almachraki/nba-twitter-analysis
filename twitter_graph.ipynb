{
 "cells": [
  {
   "cell_type": "code",
   "execution_count": 1,
   "metadata": {},
   "outputs": [],
   "source": [
    "from igraph import *\n",
    "import csv"
   ]
  },
  {
   "cell_type": "code",
   "execution_count": 2,
   "metadata": {},
   "outputs": [],
   "source": [
    "vinfile = \"\"\n",
    "einfile = \"\""
   ]
  },
  {
   "cell_type": "code",
   "execution_count": 3,
   "metadata": {},
   "outputs": [],
   "source": [
    "V = []\n",
    "E = []\n",
    "scrn_names = []\n",
    "full_names = []\n",
    "teams = []\n",
    "\n",
    "#read V\n",
    "with open(vinfile, 'r') as infile:\n",
    "    reader = csv.reader(infile, delimiter=',')\n",
    "    for row in reader:\n",
    "        V.append(row[0])\n",
    "        full_names.append(row[1])\n",
    "        scrn_names.append(row[2])\n",
    "        teams.append(row[3])\n",
    "\n",
    "#read E\n",
    "with open(einfile, 'r') as infile:\n",
    "    reader = csv.reader(infile, delimiter=',')\n",
    "    for row in reader:\n",
    "        E.append((row[0], row[1]))\n"
   ]
  },
  {
   "cell_type": "code",
   "execution_count": 5,
   "metadata": {},
   "outputs": [],
   "source": [
    "#create graph g\n",
    "g = Graph(directed=True)\n",
    "g.add_vertices(V)\n",
    "g.add_edges(E)\n",
    "g.vs[\"full_name\"] = full_names\n",
    "g.vs[\"screen_name\"] = scrn_names"
   ]
  },
  {
   "cell_type": "code",
   "execution_count": null,
   "metadata": {},
   "outputs": [],
   "source": [
    "def process_edges(graph):\n",
    "    for e in graph.es:\n",
    "        src, targ = e.tuple\n",
    "        if graph.are_connected(targ, src):\n",
    "            e[\"color\"] = \"#90EE90\" #light green - follow + followback\n",
    "            e[\"arrow\"] = 0         #hides the arrow of these connections\n",
    "            e[\"width\"] = .75\n",
    "        else:\n",
    "            e[\"color\"] = \"#7FFFD4\" #aquamarine - follow\n",
    "            e[\"arrow\"] = 1\n",
    "            e[\"width\"] = 1\n",
    "process_edges(g)\n",
    "g.ecount()"
   ]
  },
  {
   "cell_type": "code",
   "execution_count": 6,
   "metadata": {},
   "outputs": [],
   "source": [
    "def process_verts(graph):\n",
    "    for v in graph.vs:\n",
    "        if v.degree() == 0: # remove outliers\n",
    "            v.delete()\n",
    "process_verts(g)\n",
    "g.vcount()"
   ]
  },
  {
   "cell_type": "code",
   "execution_count": null,
   "metadata": {},
   "outputs": [],
   "source": [
    "#edit the placement of the labels wrt to the verts for circular graph\n",
    "ang = []\n",
    "dis = []\n",
    "flip = 1\n",
    "for i in range(0, g.vcount()):\n",
    "    dist = 5\n",
    "    angle = -i*1.0/g.vcount()*2.0*pi\n",
    "    diff = abs(abs(angle) % pi - pi/2.0)\n",
    "    if diff < 0.2:\n",
    "        dist += 1.5*flip\n",
    "        flip *= -1\n",
    "    ang.append(angle)\n",
    "    dis.append(dist)\n",
    "g.vs[\"ang\"] = ang\n",
    "g.vs[\"dis\"] = dis"
   ]
  },
  {
   "cell_type": "code",
   "execution_count": null,
   "metadata": {},
   "outputs": [],
   "source": [
    "visual_style = {}\n",
    "visual_style[\"layout\"] = g.layout(\"circular\")\n",
    "visual_style[\"vertex_size\"] = 3\n",
    "visual_style[\"vertex_color\"] = \"white\"\n",
    "visual_style[\"vertex_shape\"] = \"square\"\n",
    "visual_style[\"vertex_frame_color\"] = \"white\"\n",
    "visual_style[\"vertex_label\"] = g.vs[\"screen_name\"]\n",
    "visual_style[\"margin\"] = 100\n",
    "visual_style[\"bbox\"] = (500, 500) # change to 5000, 5000 for full graph\n",
    "visual_style[\"edge_curved\"] = False\n",
    "visual_style[\"edge_color\"] = g.es[\"color\"]\n",
    "visual_style[\"edge_arrow_size\"] = g.es[\"arrow\"]\n",
    "visual_style[\"vertex_label_angle\"] = g.vs[\"ang\"]\n",
    "visual_style[\"vertex_label_dist\"] = g.vs[\"dis\"]\n",
    "visual_style[\"vertex_label_size\"] = 7\n",
    "visual_style[\"edge_width\"] = g.es[\"width\"]\n",
    "\n",
    "#plot(g, **visual_style)"
   ]
  },
  {
   "cell_type": "code",
   "execution_count": null,
   "metadata": {},
   "outputs": [],
   "source": [
    "#plot kawhi graph with labels \n",
    "kawhi = g.vs(screen_name=\"kawhileonard\")[0]\n",
    "v = kawhi.index\n",
    "sg = g.subgraph_edges(g.es.select(_between = ([v], [i for i in range(0,g.vcount())])), delete_vertices=False)\n",
    "sg.vs[\"screen_name\"] = [None] * sg.vcount()\n",
    "sg.vs[v][\"screen_name\"] = g.vs[v][\"screen_name\"]\n",
    "for other in kawhi.neighbors():\n",
    "    sg.vs[other.index][\"screen_name\"] = g.vs[other.index][\"screen_name\"]\n",
    "visual_style[\"vertex_label\"] = sg.vs[\"screen_name\"]\n",
    "visual_style[\"edge_color\"] = sg.es[\"color\"]\n",
    "visual_style[\"edge_arrow_size\"] = sg.es[\"arrow\"]\n",
    "visual_style[\"edge_width\"] = sg.es[\"width\"]\n",
    "#plot(sg,\"pngseq/\"+repr(v)+\".png\",**visual_style)"
   ]
  },
  {
   "cell_type": "code",
   "execution_count": null,
   "metadata": {},
   "outputs": [],
   "source": [
    "#plot all player graphs w/0 labels but for the player to file\n",
    "for v in range(0,g.vcount()):\n",
    "    sg = g.subgraph_edges(g.es.select(_between = ([v], [i for i in range(0,g.vcount())])), delete_vertices=False)\n",
    "    sg.vs[\"screen_name\"] = [None] * sg.vcount()\n",
    "    sg.vs[v][\"screen_name\"] = g.vs[v][\"screen_name\"]\n",
    "    visual_style[\"vertex_label\"] = sg.vs[\"screen_name\"]\n",
    "    visual_style[\"edge_color\"] = sg.es[\"color\"]\n",
    "    visual_style[\"edge_arrow_size\"] = sg.es[\"arrow\"]\n",
    "    visual_style[\"edge_width\"] = sg.es[\"width\"]\n",
    "    #plot(sg, \"pngseq/\"+repr(v)+\".png\",**visual_style) "
   ]
  },
  {
   "cell_type": "code",
   "execution_count": null,
   "metadata": {},
   "outputs": [],
   "source": [
    "# analytics\n",
    "h = g.degree_distribution()\n",
    "#plot(h)"
   ]
  },
  {
   "cell_type": "code",
   "execution_count": null,
   "metadata": {},
   "outputs": [],
   "source": [
    "#FOLLOWERS-FOLLOWS DIFFERENTIAL \n",
    "deg = zip(g.degree(g.vs, OUT), g.degree(g.vs, IN))\n",
    "res = []\n",
    "for d in deg:\n",
    "    res.append(d[1]-d[0])\n",
    "res[:10]"
   ]
  },
  {
   "cell_type": "code",
   "execution_count": null,
   "metadata": {},
   "outputs": [],
   "source": [
    "#CENTRALITY (EIGENVECTOR)\n",
    "ec = sorted(zip(g.eigenvector_centrality(), g.vs[\"screen_name\"]), reverse=True)\n",
    "ec[:10]\n"
   ]
  },
  {
   "cell_type": "code",
   "execution_count": null,
   "metadata": {},
   "outputs": [],
   "source": [
    "#PAGERANK\n",
    "pr = sorted(zip(g.pagerank(), g.vs[\"screen_name\"]), reverse=True)\n",
    "pr[:10]"
   ]
  },
  {
   "cell_type": "code",
   "execution_count": null,
   "metadata": {},
   "outputs": [],
   "source": [
    "#LARGEST CLIQUES\n",
    "cls = g.as_undirected(mode=\"MUTUAL\").largest_cliques()\n",
    "cl = g.subgraph(cls[0].vs[\"screen_name\"])\n",
    "cl"
   ]
  },
  {
   "cell_type": "code",
   "execution_count": 7,
   "metadata": {},
   "outputs": [],
   "source": [
    "#COMMUNITY DETECTION\n",
    "sg = g.as_undirected(mode=\"MUTUAL\")\n",
    "process_verts(sg)\n",
    "comm = sg.community_leading_eigenvector()\n",
    "layout = sg.layout()\n",
    "mem = sorted(zip(comm.membership, g.vs[\"screen_name\"]))\n",
    "mem\n",
    "#plot(comm, layout=layout, margin=50)"
   ]
  }
 ],
 "metadata": {
  "kernelspec": {
   "display_name": "Python 2",
   "language": "python",
   "name": "python2"
  },
  "language_info": {
   "codemirror_mode": {
    "name": "ipython",
    "version": 2
   },
   "file_extension": ".py",
   "mimetype": "text/x-python",
   "name": "python",
   "nbconvert_exporter": "python",
   "pygments_lexer": "ipython2",
   "version": "2.7.12"
  }
 },
 "nbformat": 4,
 "nbformat_minor": 2
}
